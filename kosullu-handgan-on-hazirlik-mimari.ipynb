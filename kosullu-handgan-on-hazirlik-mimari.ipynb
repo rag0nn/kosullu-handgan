{
 "cells": [
  {
   "cell_type": "code",
   "execution_count": 34,
   "id": "6decda32",
   "metadata": {},
   "outputs": [],
   "source": [
    "from tensorflow.keras.layers import LeakyReLU,Conv2DTranspose,Embedding,Input,Dense,Flatten,Conv2D,Concatenate,MaxPooling2D,Reshape\n",
    "from tensorflow.keras.models import Sequential,Model\n",
    "from tensorflow.keras.optimizers import Adam\n",
    "import numpy as np"
   ]
  },
  {
   "cell_type": "markdown",
   "id": "c135b1a6",
   "metadata": {},
   "source": [
    "### Tokenize"
   ]
  },
  {
   "cell_type": "code",
   "execution_count": 13,
   "id": "cd4b6582",
   "metadata": {},
   "outputs": [],
   "source": [
    "dataset_labels_en = {\n",
    "    0 : \"closed fist\",\n",
    "    1 : \"finger circles\",\n",
    "    2 : \"finger symbols\",\n",
    "    3 : \"semi finger bend\",\n",
    "    4 : \"open palm\",\n",
    "    5 : \"semi open fist\",\n",
    "    6 : \"semi open palm\",\n",
    "    7 : \"single finger bend\",\n",
    "}\n",
    "\n",
    "dataset_labels_tr = {\n",
    "    0 : \"kapalı yumruk\",\n",
    "    1 : \"parmak çevreler\",\n",
    "    2 : \"parmak semboller\",\n",
    "    3 : \"yarım parmak bükme\",\n",
    "    4 : \"açık avuç\",\n",
    "    5 : \"yarım açık yumruk\",\n",
    "    6 : \"yarım açık avuç\",\n",
    "    7 : \"tek parmak bükme\",\n",
    "}\n",
    "\n",
    "\"\"\"\n",
    "dataset labels'ın tokenize edilip vektör haline getirilmiş türü\n",
    "(0, array([4, 9, 0], dtype=int64))\n",
    "(1, array([5,10, 0], dtype=int64))\n",
    "(2, array([5, 6, 0], dtype=int64))\n",
    "(3, array([8, 5, 3], dtype=int64))\n",
    "(4, array([2, 1, 0], dtype=int64))\n",
    "(5, array([8, 2, 9], dtype=int64))\n",
    "(6, array([8, 2, 1], dtype=int64))\n",
    "(7, array([7, 5, 3], dtype=int64))\n",
    "\"\"\""
   ]
  },
  {
   "cell_type": "code",
   "execution_count": 17,
   "id": "d9b2c2bc",
   "metadata": {},
   "outputs": [
    {
     "name": "stdout",
     "output_type": "stream",
     "text": [
      "kapalı yumruk parmak çevreler parmak semboller yarım parmak bükme açık avuç yarım açık yumruk yarım açık avuç tek parmak bükme \n",
      "'kapalı' kelimesi 1 kez geçiyor.\n",
      "'yumruk' kelimesi 2 kez geçiyor.\n",
      "'parmak' kelimesi 4 kez geçiyor.\n",
      "'çevreler' kelimesi 1 kez geçiyor.\n",
      "'semboller' kelimesi 1 kez geçiyor.\n",
      "'yarım' kelimesi 3 kez geçiyor.\n",
      "'bükme' kelimesi 2 kez geçiyor.\n",
      "'açık' kelimesi 3 kez geçiyor.\n",
      "'avuç' kelimesi 2 kez geçiyor.\n",
      "'tek' kelimesi 1 kez geçiyor.\n",
      "'' kelimesi 1 kez geçiyor.\n"
     ]
    }
   ],
   "source": [
    "concated = \"\"\n",
    "for i in dataset_labels_tr.values():\n",
    "     concated+=f\"{i} \"\n",
    "    \n",
    "print(concated)\n",
    "kelime_sayilari = Counter(concated.split(\" \"))\n",
    "\n",
    "sozluk = []\n",
    "for kelime, sayi in kelime_sayilari.items():\n",
    "    sozluk.append(kelime)\n",
    "    print(f\"'{kelime}' kelimesi {sayi} kez geçiyor.\")"
   ]
  },
  {
   "cell_type": "code",
   "execution_count": 16,
   "id": "36d06a67",
   "metadata": {},
   "outputs": [],
   "source": [
    "from sklearn.preprocessing import LabelEncoder"
   ]
  },
  {
   "cell_type": "code",
   "execution_count": 25,
   "id": "275e27e7",
   "metadata": {},
   "outputs": [
    {
     "name": "stdout",
     "output_type": "stream",
     "text": [
      "['kapalı', 'yumruk', 'parmak', 'çevreler', 'semboller', 'yarım', 'bükme', 'açık', 'avuç', 'tek', '']\n",
      "[ 4  9  5 10  6  8  3  2  1  7  0]\n",
      "\n",
      "\n",
      "{'kapalı': 4, 'yumruk': 9, 'parmak': 5, 'çevreler': 10, 'semboller': 6, 'yarım': 8, 'bükme': 3, 'açık': 2, 'avuç': 1, 'tek': 7, '': 0}\n"
     ]
    }
   ],
   "source": [
    "encoder = LabelEncoder()\n",
    "encoded = encoder.fit_transform(sozluk)\n",
    "print(sozluk)\n",
    "print(encoded)\n",
    "words_encoded_dict = {}\n",
    "\n",
    "for idx in range(len(encoded)):\n",
    "    words_encoded_dict.update({sozluk[idx]:encoded[idx]})\n",
    "    \n",
    "print(\"\\n\")\n",
    "print(words_encoded_dict)"
   ]
  },
  {
   "cell_type": "code",
   "execution_count": 42,
   "id": "ff2d089b",
   "metadata": {},
   "outputs": [],
   "source": [
    "def tokenize():\n",
    "    tokenized_labels = {}\n",
    "    for key, value in dataset_labels_tr.items():\n",
    "        row_encodes = []\n",
    "        words = value.split(\" \")\n",
    "        for label_word in words:\n",
    "            row_encodes.append(words_encoded_dict[label_word])\n",
    "        if(len(row_encodes) != 3):\n",
    "            row_encodes.append(0)\n",
    "        tokenized_labels[key] =np.array(row_encodes)\n",
    "    return tokenized_labels\n",
    "\n",
    "tokenized_labels = tokenize()"
   ]
  },
  {
   "cell_type": "code",
   "execution_count": 43,
   "id": "a4a1dd23",
   "metadata": {},
   "outputs": [
    {
     "name": "stdout",
     "output_type": "stream",
     "text": [
      "(0, array([4, 9, 0], dtype=int64))\n",
      "(1, array([ 5, 10,  0], dtype=int64))\n",
      "(2, array([5, 6, 0], dtype=int64))\n",
      "(3, array([8, 5, 3], dtype=int64))\n",
      "(4, array([2, 1, 0], dtype=int64))\n",
      "(5, array([8, 2, 9], dtype=int64))\n",
      "(6, array([8, 2, 1], dtype=int64))\n",
      "(7, array([7, 5, 3], dtype=int64))\n"
     ]
    }
   ],
   "source": [
    "for i in tokenized_labels.items():\n",
    "    print(i)"
   ]
  },
  {
   "cell_type": "markdown",
   "id": "34276dd9",
   "metadata": {},
   "source": [
    "### Embedding "
   ]
  },
  {
   "cell_type": "code",
   "execution_count": 35,
   "id": "698b9f38",
   "metadata": {},
   "outputs": [],
   "source": [
    "model = Sequential()\n",
    "model.add(Embedding(1,50,input_length=3))\n",
    "model.compile(\"rmsprop\",\"mse\")"
   ]
  },
  {
   "cell_type": "code",
   "execution_count": 36,
   "id": "4075a512",
   "metadata": {
    "collapsed": true
   },
   "outputs": [
    {
     "name": "stdout",
     "output_type": "stream",
     "text": [
      "example:\n",
      " [[2 2 1]] \n",
      "\n",
      "1/1 [==============================] - 0s 99ms/step\n",
      "example output: \n",
      " [[[0. 0. 0. 0. 0. 0. 0. 0. 0. 0. 0. 0. 0. 0. 0. 0. 0. 0. 0. 0. 0. 0. 0.\n",
      "   0. 0. 0. 0. 0. 0. 0. 0. 0. 0. 0. 0. 0. 0. 0. 0. 0. 0. 0. 0. 0. 0. 0.\n",
      "   0. 0. 0. 0.]\n",
      "  [0. 0. 0. 0. 0. 0. 0. 0. 0. 0. 0. 0. 0. 0. 0. 0. 0. 0. 0. 0. 0. 0. 0.\n",
      "   0. 0. 0. 0. 0. 0. 0. 0. 0. 0. 0. 0. 0. 0. 0. 0. 0. 0. 0. 0. 0. 0. 0.\n",
      "   0. 0. 0. 0.]\n",
      "  [0. 0. 0. 0. 0. 0. 0. 0. 0. 0. 0. 0. 0. 0. 0. 0. 0. 0. 0. 0. 0. 0. 0.\n",
      "   0. 0. 0. 0. 0. 0. 0. 0. 0. 0. 0. 0. 0. 0. 0. 0. 0. 0. 0. 0. 0. 0. 0.\n",
      "   0. 0. 0. 0.]]] \n",
      "\n",
      "(1, 3, 50)\n"
     ]
    }
   ],
   "source": [
    "example_seed = np.random.randint(1,3,size=(1,3))\n",
    "print(\"example:\\n\",example_seed,\"\\n\")\n",
    "\n",
    "example_res = model.predict(example_seed)\n",
    "print(\"example output: \\n\",example_res,\"\\n\")\n",
    "print(example_res.shape)"
   ]
  },
  {
   "cell_type": "code",
   "execution_count": 61,
   "id": "384399fc",
   "metadata": {},
   "outputs": [],
   "source": [
    "model = Sequential()\n",
    "model.add(Input((3,)))\n",
    "model.add(Embedding(10,50,input_length=3))\n",
    "model.compile(\"rmsprop\",\"mse\")"
   ]
  },
  {
   "cell_type": "code",
   "execution_count": 62,
   "id": "d08c1dc4",
   "metadata": {},
   "outputs": [
    {
     "name": "stdout",
     "output_type": "stream",
     "text": [
      "WARNING:tensorflow:5 out of the last 11 calls to <function Model.make_predict_function.<locals>.predict_function at 0x00000240424EFC10> triggered tf.function retracing. Tracing is expensive and the excessive number of tracings could be due to (1) creating @tf.function repeatedly in a loop, (2) passing tensors with different shapes, (3) passing Python objects instead of tensors. For (1), please define your @tf.function outside of the loop. For (2), @tf.function has reduce_retracing=True option that can avoid unnecessary retracing. For (3), please refer to https://www.tensorflow.org/guide/function#controlling_retracing and https://www.tensorflow.org/api_docs/python/tf/function for  more details.\n",
      "1/1 [==============================] - 0s 30ms/step\n"
     ]
    },
    {
     "data": {
      "text/plain": [
       "(1, 3, 50)"
      ]
     },
     "execution_count": 62,
     "metadata": {},
     "output_type": "execute_result"
    }
   ],
   "source": [
    "output = model.predict(example_seed)\n",
    "output.shape"
   ]
  },
  {
   "cell_type": "code",
   "execution_count": 63,
   "id": "34bae931",
   "metadata": {},
   "outputs": [
    {
     "name": "stdout",
     "output_type": "stream",
     "text": [
      "WARNING:tensorflow:Model was constructed with shape (None, 3) for input KerasTensor(type_spec=TensorSpec(shape=(None, 3), dtype=tf.float32, name='input_3'), name='input_3', description=\"created by layer 'input_3'\"), but it was called on an input with incompatible shape (None,).\n",
      "1/1 [==============================] - 0s 32ms/step\n",
      "length:  3\n",
      "length: 50\n",
      "length: 50\n",
      "length: 50\n",
      "[[-0.03849635  0.03954578  0.01342502 -0.04930233  0.02586     0.03696546\n",
      "  -0.00502933 -0.02727122  0.01802484  0.00921071 -0.01699233 -0.02792304\n",
      "  -0.0331637  -0.03273916 -0.02591754 -0.02299308 -0.02854205 -0.01010298\n",
      "   0.00634484  0.00515012  0.03256046  0.04926511  0.04228142  0.03852065\n",
      "  -0.01402365  0.03936068  0.01543445 -0.03016212  0.00110907 -0.0409855\n",
      "  -0.0083462  -0.0414372  -0.03168894  0.03096949  0.02557183  0.01507549\n",
      "  -0.04032337  0.02773463  0.02200239  0.03571426 -0.01204234  0.02130717\n",
      "   0.0111777  -0.04082455  0.04818416 -0.04067886  0.03065525  0.01547494\n",
      "   0.01205338  0.03455104]\n",
      " [ 0.02086557  0.00388763 -0.02324618 -0.00811727 -0.04210348  0.02063737\n",
      "   0.02681516  0.04960001  0.03149012  0.0483599  -0.04126732  0.01434969\n",
      "  -0.0430064  -0.03778229  0.04867173 -0.03521425 -0.00888277 -0.02479272\n",
      "  -0.04329189 -0.00428547  0.0291196  -0.02228613 -0.00103439 -0.01112375\n",
      "  -0.02853953 -0.0319888  -0.02652024  0.02705095  0.02379353 -0.0290879\n",
      "   0.03541631  0.02697258  0.01753652  0.01438401  0.01488556  0.00441305\n",
      "  -0.00610552 -0.04990482 -0.04094623 -0.04793742 -0.02103329  0.00805236\n",
      "   0.03971029  0.02855544 -0.03358834 -0.04710417 -0.01632125 -0.00940554\n",
      "   0.01682302  0.01923529]\n",
      " [-0.01620407  0.04542286  0.04143671  0.02518108 -0.02210538  0.01752803\n",
      "  -0.04637332 -0.04533948 -0.03280602 -0.0267867  -0.02018496  0.04044547\n",
      "   0.00412095  0.02769966  0.00657089  0.04911705  0.00529466  0.02195876\n",
      "  -0.03882307 -0.03719353 -0.04353232 -0.00049027 -0.01606578  0.02518734\n",
      "  -0.00090932 -0.02352595  0.03206525  0.03789555  0.03436501  0.03299278\n",
      "   0.03008353 -0.02901952  0.00816954 -0.03105294 -0.00673456 -0.0054428\n",
      "  -0.01379331 -0.04080116  0.00564158 -0.00656881 -0.03855262 -0.03816926\n",
      "   0.04872825  0.03300289 -0.00830225 -0.02757493  0.04198407  0.01986558\n",
      "  -0.04297136 -0.04674125]]\n"
     ]
    }
   ],
   "source": [
    "output = model.predict(tokenized_labels[0])\n",
    "print(\"length: \",len(output))\n",
    "for i in output:\n",
    "    print(\"length:\",len(i))\n",
    "print(output)"
   ]
  },
  {
   "cell_type": "markdown",
   "id": "77d8236a",
   "metadata": {},
   "source": [
    "### Model"
   ]
  },
  {
   "cell_type": "markdown",
   "id": "7afa67d3",
   "metadata": {},
   "source": [
    "#### Discriminator"
   ]
  },
  {
   "cell_type": "code",
   "execution_count": 71,
   "id": "1092aa8b",
   "metadata": {},
   "outputs": [],
   "source": [
    "inp_size = (160,160,3)"
   ]
  },
  {
   "cell_type": "code",
   "execution_count": 177,
   "id": "0d9c2ec2",
   "metadata": {},
   "outputs": [],
   "source": [
    "def build_discriminator(in_shape):\n",
    "    inp_label = Input((3,))\n",
    "    embedding = Embedding(1,50,input_length=3)(inp_label)\n",
    "    d1 = Dense(in_shape[0]*in_shape[1])(embedding)\n",
    "    reshape1 = Reshape(in_shape)(d1)\n",
    "    \n",
    "    inp_image = Input(in_shape)\n",
    "    concat1 = Concatenate()([reshape1,inp_image])\n",
    "    \n",
    "    conv1 = Conv2D(128,(3,3),strides=(2,2))(concat1)\n",
    "    conv2 = Conv2D(128,(3,3),strides=(1,1))(conv1)\n",
    "    conv3 = Conv2D(128,(5,5),strides=(2,2))(conv2)\n",
    "    conv4 = Conv2D(128,(3,3),strides=(2,2))(conv3)\n",
    "    conv5 = Conv2D(128,(3,3),strides=(2,2))(conv4)\n",
    "    \n",
    "    flat1 = Flatten()(conv5)\n",
    "    dense_output = Dense(1)(flat1)\n",
    "    \n",
    "    opt = Adam(learning_rate=0.0002,beta_1=0.5)\n",
    "    model = Model([inp_label,inp_image],dense_output)\n",
    "    model.compile(loss='binary_crossentropy',optimizer=opt,metrics=['accuracy'])\n",
    "    \n",
    "    model.summary()\n",
    "    \n",
    "    return model"
   ]
  },
  {
   "cell_type": "code",
   "execution_count": 178,
   "id": "1a69d7e9",
   "metadata": {},
   "outputs": [
    {
     "name": "stdout",
     "output_type": "stream",
     "text": [
      "Model: \"model_59\"\n",
      "__________________________________________________________________________________________________\n",
      " Layer (type)                   Output Shape         Param #     Connected to                     \n",
      "==================================================================================================\n",
      " input_140 (InputLayer)         [(None, 3)]          0           []                               \n",
      "                                                                                                  \n",
      " embedding_64 (Embedding)       (None, 3, 50)        50          ['input_140[0][0]']              \n",
      "                                                                                                  \n",
      " dense_70 (Dense)               (None, 3, 25600)     1305600     ['embedding_64[0][0]']           \n",
      "                                                                                                  \n",
      " reshape_47 (Reshape)           (None, 160, 160, 3)  0           ['dense_70[0][0]']               \n",
      "                                                                                                  \n",
      " input_141 (InputLayer)         [(None, 160, 160, 3  0           []                               \n",
      "                                )]                                                                \n",
      "                                                                                                  \n",
      " concatenate_52 (Concatenate)   (None, 160, 160, 6)  0           ['reshape_47[0][0]',             \n",
      "                                                                  'input_141[0][0]']              \n",
      "                                                                                                  \n",
      " conv2d_82 (Conv2D)             (None, 79, 79, 128)  7040        ['concatenate_52[0][0]']         \n",
      "                                                                                                  \n",
      " conv2d_83 (Conv2D)             (None, 77, 77, 128)  147584      ['conv2d_82[0][0]']              \n",
      "                                                                                                  \n",
      " conv2d_84 (Conv2D)             (None, 37, 37, 128)  409728      ['conv2d_83[0][0]']              \n",
      "                                                                                                  \n",
      " conv2d_85 (Conv2D)             (None, 18, 18, 128)  147584      ['conv2d_84[0][0]']              \n",
      "                                                                                                  \n",
      " conv2d_86 (Conv2D)             (None, 8, 8, 128)    147584      ['conv2d_85[0][0]']              \n",
      "                                                                                                  \n",
      " flatten_43 (Flatten)           (None, 8192)         0           ['conv2d_86[0][0]']              \n",
      "                                                                                                  \n",
      " dense_71 (Dense)               (None, 1)            8193        ['flatten_43[0][0]']             \n",
      "                                                                                                  \n",
      "==================================================================================================\n",
      "Total params: 2,173,363\n",
      "Trainable params: 2,173,363\n",
      "Non-trainable params: 0\n",
      "__________________________________________________________________________________________________\n"
     ]
    },
    {
     "data": {
      "text/plain": [
       "<keras.engine.functional.Functional at 0x2d4471ebbb0>"
      ]
     },
     "execution_count": 178,
     "metadata": {},
     "output_type": "execute_result"
    }
   ],
   "source": [
    "build_discriminator(inp_size)"
   ]
  },
  {
   "cell_type": "markdown",
   "id": "fc53afc7",
   "metadata": {},
   "source": [
    "#### Generator"
   ]
  },
  {
   "cell_type": "code",
   "execution_count": 179,
   "id": "3451ecf0",
   "metadata": {},
   "outputs": [],
   "source": [
    "def build_generator(latent_dim):\n",
    "    inp_label = Input((3,))\n",
    "    embedding = Embedding(1,50,input_length=3)(inp_label)\n",
    "    flat1 = Flatten()(embedding)\n",
    "    \n",
    "    inp_image_latent = Input((150))\n",
    "    concated = Concatenate()([flat1,inp_image_latent])\n",
    "    d1 = Dense(10*10*20)(concated)\n",
    "    reshape1 = Reshape((10,10,20))(d1)\n",
    "    \n",
    "    conv1 = Conv2DTranspose(72,(3,3),strides=(2,2),padding='same')(reshape1)\n",
    "    conv1 = LeakyReLU(alpha=0.2)(conv1)\n",
    "    conv2 = Conv2DTranspose(72,(5,5),strides=(2,2),padding='same')(conv1)\n",
    "    conv2 = LeakyReLU(alpha=0.2)(conv2)\n",
    "    conv3 = Conv2DTranspose(72,(3,3),strides=(2,2),padding='same')(conv2)\n",
    "    conv3 = LeakyReLU(alpha=0.2)(conv3)\n",
    "    conv4 = Conv2DTranspose(3,(3,3),strides=(2,2),padding='same')(conv3)\n",
    "    conv4 = LeakyReLU(alpha=0.2)(conv4)\n",
    "    \n",
    "    model = Model([inp_label,inp_image_latent],conv4)\n",
    "    model.compile(\"rmsprop\",\"mse\")\n",
    "    model.summary()\n",
    "    \n",
    "    return model\n",
    "    "
   ]
  },
  {
   "cell_type": "code",
   "execution_count": 180,
   "id": "c585e0aa",
   "metadata": {},
   "outputs": [
    {
     "name": "stdout",
     "output_type": "stream",
     "text": [
      "Model: \"model_60\"\n",
      "__________________________________________________________________________________________________\n",
      " Layer (type)                   Output Shape         Param #     Connected to                     \n",
      "==================================================================================================\n",
      " input_142 (InputLayer)         [(None, 3)]          0           []                               \n",
      "                                                                                                  \n",
      " embedding_65 (Embedding)       (None, 3, 50)        50          ['input_142[0][0]']              \n",
      "                                                                                                  \n",
      " flatten_44 (Flatten)           (None, 150)          0           ['embedding_65[0][0]']           \n",
      "                                                                                                  \n",
      " input_143 (InputLayer)         [(None, 150)]        0           []                               \n",
      "                                                                                                  \n",
      " concatenate_53 (Concatenate)   (None, 300)          0           ['flatten_44[0][0]',             \n",
      "                                                                  'input_143[0][0]']              \n",
      "                                                                                                  \n",
      " dense_72 (Dense)               (None, 2000)         602000      ['concatenate_53[0][0]']         \n",
      "                                                                                                  \n",
      " reshape_48 (Reshape)           (None, 10, 10, 20)   0           ['dense_72[0][0]']               \n",
      "                                                                                                  \n",
      " conv2d_transpose_106 (Conv2DTr  (None, 20, 20, 72)  13032       ['reshape_48[0][0]']             \n",
      " anspose)                                                                                         \n",
      "                                                                                                  \n",
      " leaky_re_lu_74 (LeakyReLU)     (None, 20, 20, 72)   0           ['conv2d_transpose_106[0][0]']   \n",
      "                                                                                                  \n",
      " conv2d_transpose_107 (Conv2DTr  (None, 40, 40, 72)  129672      ['leaky_re_lu_74[0][0]']         \n",
      " anspose)                                                                                         \n",
      "                                                                                                  \n",
      " leaky_re_lu_75 (LeakyReLU)     (None, 40, 40, 72)   0           ['conv2d_transpose_107[0][0]']   \n",
      "                                                                                                  \n",
      " conv2d_transpose_108 (Conv2DTr  (None, 80, 80, 72)  46728       ['leaky_re_lu_75[0][0]']         \n",
      " anspose)                                                                                         \n",
      "                                                                                                  \n",
      " leaky_re_lu_76 (LeakyReLU)     (None, 80, 80, 72)   0           ['conv2d_transpose_108[0][0]']   \n",
      "                                                                                                  \n",
      " conv2d_transpose_109 (Conv2DTr  (None, 160, 160, 3)  1947       ['leaky_re_lu_76[0][0]']         \n",
      " anspose)                                                                                         \n",
      "                                                                                                  \n",
      " leaky_re_lu_77 (LeakyReLU)     (None, 160, 160, 3)  0           ['conv2d_transpose_109[0][0]']   \n",
      "                                                                                                  \n",
      "==================================================================================================\n",
      "Total params: 793,429\n",
      "Trainable params: 793,429\n",
      "Non-trainable params: 0\n",
      "__________________________________________________________________________________________________\n"
     ]
    },
    {
     "data": {
      "text/plain": [
       "<keras.engine.functional.Functional at 0x2d44747bb50>"
      ]
     },
     "execution_count": 180,
     "metadata": {},
     "output_type": "execute_result"
    }
   ],
   "source": [
    "build_generator(50)"
   ]
  },
  {
   "cell_type": "code",
   "execution_count": 183,
   "id": "04bcc7b7",
   "metadata": {},
   "outputs": [],
   "source": [
    "def build_gan(model_gen,model_disc):\n",
    "    model_disc.trainable = False\n",
    "    gen_label,  gen_noise= model_gen.input\n",
    "    gen_output = model_gen.output\n",
    "    gan_output = model_disc([gen_label,gen_output])\n",
    "    \n",
    "    model = Model([gen_label,gen_noise], gan_output)\n",
    "    \n",
    "    opt = Adam(lr=0.0002,beta_1=0.5)\n",
    "    model.compile(loss='binary_crossentropy',optimizer=opt)\n",
    "    return model"
   ]
  },
  {
   "cell_type": "code",
   "execution_count": 184,
   "id": "8c657453",
   "metadata": {},
   "outputs": [
    {
     "name": "stdout",
     "output_type": "stream",
     "text": [
      "Model: \"model_63\"\n",
      "__________________________________________________________________________________________________\n",
      " Layer (type)                   Output Shape         Param #     Connected to                     \n",
      "==================================================================================================\n",
      " input_148 (InputLayer)         [(None, 3)]          0           []                               \n",
      "                                                                                                  \n",
      " embedding_68 (Embedding)       (None, 3, 50)        50          ['input_148[0][0]']              \n",
      "                                                                                                  \n",
      " flatten_47 (Flatten)           (None, 150)          0           ['embedding_68[0][0]']           \n",
      "                                                                                                  \n",
      " input_149 (InputLayer)         [(None, 150)]        0           []                               \n",
      "                                                                                                  \n",
      " concatenate_56 (Concatenate)   (None, 300)          0           ['flatten_47[0][0]',             \n",
      "                                                                  'input_149[0][0]']              \n",
      "                                                                                                  \n",
      " dense_76 (Dense)               (None, 2000)         602000      ['concatenate_56[0][0]']         \n",
      "                                                                                                  \n",
      " reshape_51 (Reshape)           (None, 10, 10, 20)   0           ['dense_76[0][0]']               \n",
      "                                                                                                  \n",
      " conv2d_transpose_114 (Conv2DTr  (None, 20, 20, 72)  13032       ['reshape_51[0][0]']             \n",
      " anspose)                                                                                         \n",
      "                                                                                                  \n",
      " leaky_re_lu_82 (LeakyReLU)     (None, 20, 20, 72)   0           ['conv2d_transpose_114[0][0]']   \n",
      "                                                                                                  \n",
      " conv2d_transpose_115 (Conv2DTr  (None, 40, 40, 72)  129672      ['leaky_re_lu_82[0][0]']         \n",
      " anspose)                                                                                         \n",
      "                                                                                                  \n",
      " leaky_re_lu_83 (LeakyReLU)     (None, 40, 40, 72)   0           ['conv2d_transpose_115[0][0]']   \n",
      "                                                                                                  \n",
      " conv2d_transpose_116 (Conv2DTr  (None, 80, 80, 72)  46728       ['leaky_re_lu_83[0][0]']         \n",
      " anspose)                                                                                         \n",
      "                                                                                                  \n",
      " leaky_re_lu_84 (LeakyReLU)     (None, 80, 80, 72)   0           ['conv2d_transpose_116[0][0]']   \n",
      "                                                                                                  \n",
      " conv2d_transpose_117 (Conv2DTr  (None, 160, 160, 3)  1947       ['leaky_re_lu_84[0][0]']         \n",
      " anspose)                                                                                         \n",
      "                                                                                                  \n",
      " leaky_re_lu_85 (LeakyReLU)     (None, 160, 160, 3)  0           ['conv2d_transpose_117[0][0]']   \n",
      "                                                                                                  \n",
      "==================================================================================================\n",
      "Total params: 793,429\n",
      "Trainable params: 793,429\n",
      "Non-trainable params: 0\n",
      "__________________________________________________________________________________________________\n",
      "Model: \"model_64\"\n",
      "__________________________________________________________________________________________________\n",
      " Layer (type)                   Output Shape         Param #     Connected to                     \n",
      "==================================================================================================\n",
      " input_150 (InputLayer)         [(None, 3)]          0           []                               \n",
      "                                                                                                  \n",
      " embedding_69 (Embedding)       (None, 3, 50)        50          ['input_150[0][0]']              \n",
      "                                                                                                  \n",
      " dense_77 (Dense)               (None, 3, 25600)     1305600     ['embedding_69[0][0]']           \n",
      "                                                                                                  \n",
      " reshape_52 (Reshape)           (None, 160, 160, 3)  0           ['dense_77[0][0]']               \n",
      "                                                                                                  \n",
      " input_151 (InputLayer)         [(None, 160, 160, 3  0           []                               \n",
      "                                )]                                                                \n",
      "                                                                                                  \n",
      " concatenate_57 (Concatenate)   (None, 160, 160, 6)  0           ['reshape_52[0][0]',             \n",
      "                                                                  'input_151[0][0]']              \n",
      "                                                                                                  \n",
      " conv2d_92 (Conv2D)             (None, 79, 79, 128)  7040        ['concatenate_57[0][0]']         \n",
      "                                                                                                  \n",
      " conv2d_93 (Conv2D)             (None, 77, 77, 128)  147584      ['conv2d_92[0][0]']              \n",
      "                                                                                                  \n",
      " conv2d_94 (Conv2D)             (None, 37, 37, 128)  409728      ['conv2d_93[0][0]']              \n",
      "                                                                                                  \n",
      " conv2d_95 (Conv2D)             (None, 18, 18, 128)  147584      ['conv2d_94[0][0]']              \n",
      "                                                                                                  \n",
      " conv2d_96 (Conv2D)             (None, 8, 8, 128)    147584      ['conv2d_95[0][0]']              \n",
      "                                                                                                  \n",
      " flatten_48 (Flatten)           (None, 8192)         0           ['conv2d_96[0][0]']              \n",
      "                                                                                                  \n",
      " dense_78 (Dense)               (None, 1)            8193        ['flatten_48[0][0]']             \n",
      "                                                                                                  \n",
      "==================================================================================================\n",
      "Total params: 2,173,363\n",
      "Trainable params: 2,173,363\n",
      "Non-trainable params: 0\n",
      "__________________________________________________________________________________________________\n"
     ]
    }
   ],
   "source": [
    "gan_model = build_gan(build_generator(500),build_discriminator(inp_size))"
   ]
  },
  {
   "cell_type": "code",
   "execution_count": null,
   "id": "7e79f76d",
   "metadata": {},
   "outputs": [],
   "source": []
  },
  {
   "cell_type": "code",
   "execution_count": null,
   "id": "ef4906b3",
   "metadata": {},
   "outputs": [],
   "source": [
    "def load_real_samples:\n",
    "    \"\"\"\n",
    "    dataset X'in scale ve dimension preprocess'lerinin yapılması\n",
    "    dataset y ile geri döndürülmesi\n",
    "    \"\"\"\n",
    "    pass\n",
    "\n",
    "def generate_real_samples:\n",
    "    \"\"\"\n",
    "    dataset'ten rastgele bir görüntü alır ve şu şekilde döndürür\n",
    "    [X,labels] , y\n",
    "    X: seçilen görüntü\n",
    "    labels: seçilen görüntünün etiketi\n",
    "    y: np.ones(), birlerden oluşan etiket\n",
    "    \"\"\"\n",
    "    pass"
   ]
  },
  {
   "cell_type": "code",
   "execution_count": null,
   "id": "07159dca",
   "metadata": {},
   "outputs": [],
   "source": [
    "def generate_latent():\n",
    "    \"\"\"\n",
    "    geri döndür -> return( z_input,labels)\n",
    "    z_input : latent (rastgele) vektörü\n",
    "    labels : rastgele bir label\n",
    "    \"\"\"\n",
    "    pass\n",
    "\n",
    "def generate_fake_samples():\n",
    "    \"\"\"\n",
    "    z_input , labels_input = generate_latent() metodunu çağır\n",
    "    \n",
    "    images = generator.predicr(z_input,labels_input)\n",
    "    \n",
    "    y = zeros() : 0 etiketi\n",
    "    \n",
    "    return [images, labels_input], y\n",
    "    \"\"\""
   ]
  },
  {
   "cell_type": "code",
   "execution_count": null,
   "id": "77855552",
   "metadata": {},
   "outputs": [],
   "source": [
    "def train():\n",
    "    \"\"\"\n",
    "    generate_real_samples()'tan gerçek image,label,ve etiketi al(ones)\n",
    "    discriminatoru bununla eğit\n",
    "    \n",
    "    generate_fake_samples()'tan sahte image label ve etiketi al(zeros)\n",
    "    disciminatoru bununla eğit\n",
    "    \n",
    "    generate_latent()'ten input ve label rastgele girdilerini al\n",
    "    y_gan = ones() al\n",
    "    \n",
    "    gan modelini son gelen 3 değerle eğit\n",
    "    \n",
    "    \"\"\"\n",
    "    pass"
   ]
  }
 ],
 "metadata": {
  "kernelspec": {
   "display_name": "Python 3 (ipykernel)",
   "language": "python",
   "name": "python3"
  },
  "language_info": {
   "codemirror_mode": {
    "name": "ipython",
    "version": 3
   },
   "file_extension": ".py",
   "mimetype": "text/x-python",
   "name": "python",
   "nbconvert_exporter": "python",
   "pygments_lexer": "ipython3",
   "version": "3.9.16"
  }
 },
 "nbformat": 4,
 "nbformat_minor": 5
}
